{
 "cells": [
  {
   "cell_type": "code",
   "execution_count": 107,
   "metadata": {},
   "outputs": [
    {
     "name": "stdout",
     "output_type": "stream",
     "text": [
      "Алгоритм угадывает число в среднем за 5 попыток\n"
     ]
    },
    {
     "data": {
      "text/plain": [
       "5"
      ]
     },
     "execution_count": 107,
     "metadata": {},
     "output_type": "execute_result"
    }
   ],
   "source": [
    "import numpy as np\n",
    "\n",
    "\n",
    "def game_core_v5(value, left_border=0, right_border=100):\n",
    "    \"\"\"The function searches for a value in a given range of integers \n",
    "       and return the number of attempts required.\n",
    "       \n",
    "    Keyword arguments:\n",
    "    value -- desired value\n",
    "    left_border -- left border of the range (default 0)\n",
    "    right_border -- right border of the range (default 100)\n",
    "    \n",
    "    \"\"\"\n",
    "    attempt_number = 0\n",
    "    predict = None\n",
    "    \n",
    "    if isinstance(left_border, (int, np.integer)) is not True:\n",
    "        raise TypeError(f'''Левая граница интервала '{left_border}' ''' \n",
    "                        f'не является целым числом ({type(left_border)})')\n",
    "    if isinstance(right_border, (int, np.integer)) is not True:\n",
    "        raise TypeError(f'''Правая граница интервала '{right_border}' ''' \n",
    "                        f'не является целым числом ({type(right_border)})')\n",
    "    if left_border > right_border:\n",
    "        left_border, right_border = right_border, left_border\n",
    "\n",
    "    if isinstance(value, (int, np.integer)) is not True:\n",
    "        raise TypeError(f'''Значение '{value}' не является целым числом ({type(value)})''')\n",
    "    if value > right_border or value < left_border:\n",
    "        raise ValueError(f'''Значение '{value}' находится вне границ диапазона: '''  \n",
    "                         f'[{left_border},{right_border}]')\n",
    "    \n",
    "    while value != predict:\n",
    "        attempt_number += 1\n",
    "        predict = left_border + (right_border - left_border)//2\n",
    "        \n",
    "        if value > predict: \n",
    "            left_border = predict + 1\n",
    "        else: \n",
    "                right_border = predict - 1\n",
    "        \n",
    "    return attempt_number\n",
    "\n",
    "\n",
    "def score_game(game_core):\n",
    "    count_list = []\n",
    "    np.random.seed(1)\n",
    "    random_array = np.random.randint(1, 101, size=1000)\n",
    "    \n",
    "    for number in random_array:\n",
    "        count_list.append(game_core(number))\n",
    "    score = int(np.mean(count_list))\n",
    "    print(f\"Алгоритм угадывает число в среднем за {score} попыток\")\n",
    "    return score\n",
    "\n",
    "\n",
    "score_game(game_core_v5)\n"
   ]
  }
 ],
 "metadata": {
  "kernelspec": {
   "display_name": "Python 3",
   "language": "python",
   "name": "python3"
  },
  "language_info": {
   "codemirror_mode": {
    "name": "ipython",
    "version": 3
   },
   "file_extension": ".py",
   "mimetype": "text/x-python",
   "name": "python",
   "nbconvert_exporter": "python",
   "pygments_lexer": "ipython3",
   "version": "3.8.3"
  }
 },
 "nbformat": 4,
 "nbformat_minor": 4
}
